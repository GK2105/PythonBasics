{
 "cells": [
  {
   "cell_type": "markdown",
   "id": "7d89ad7c",
   "metadata": {},
   "source": [
    "# Python Data Structures and Boolean\n",
    "\n",
    "- Boolean \n",
    "- Boolean and Logic Operators\n",
    "- Lists\n",
    "- Comparision Operators\n",
    "- Dictionaries\n",
    "- Tuplea\n",
    "- Sets\n",
    "\n",
    "## Boolean Variables\n",
    "- used to represent true or false\n",
    "- builtin function bool()\n",
    "- output is either true or false\n"
   ]
  },
  {
   "cell_type": "code",
   "execution_count": 1,
   "id": "27959288",
   "metadata": {},
   "outputs": [
    {
     "data": {
      "text/plain": [
       "False"
      ]
     },
     "execution_count": 1,
     "metadata": {},
     "output_type": "execute_result"
    }
   ],
   "source": [
    "bool()"
   ]
  },
  {
   "cell_type": "code",
   "execution_count": 3,
   "id": "f72a1ecc",
   "metadata": {},
   "outputs": [
    {
     "data": {
      "text/plain": [
       "bool"
      ]
     },
     "execution_count": 3,
     "metadata": {},
     "output_type": "execute_result"
    }
   ],
   "source": [
    "type(True)"
   ]
  },
  {
   "cell_type": "code",
   "execution_count": 5,
   "id": "cca45484",
   "metadata": {},
   "outputs": [],
   "source": [
    "my_str = \"Coffee Lover\""
   ]
  },
  {
   "cell_type": "code",
   "execution_count": 12,
   "id": "ebe23bb2",
   "metadata": {},
   "outputs": [
    {
     "name": "stdout",
     "output_type": "stream",
     "text": [
      "False\n",
      "False\n",
      "True\n",
      "False\n",
      "False\n",
      "False\n",
      "False\n",
      "True\n",
      "False\n"
     ]
    }
   ],
   "source": [
    "print(my_str.isalnum()) # check if char are numbers\n",
    "print(my_str.isalpha()) # check if char are stirng\n",
    "print(my_str.istitle()) # check if contains title words\n",
    "print(my_str.isdigit()) # check if sstring contains digits\n",
    "print(my_str.isupper()) # check if string contains uppercase\n",
    "print(my_str.islower()) #test if string containslower case\n",
    "print(my_str.isspace()) #test if string contains spaces\n",
    "print(my_str.endswith('r')) # test if string endswith r\n",
    "print(my_str.startswith('r')) # test if string endswith r"
   ]
  },
  {
   "cell_type": "markdown",
   "id": "af3bf560",
   "metadata": {},
   "source": [
    "### Boolean or Logical operators"
   ]
  },
  {
   "cell_type": "code",
   "execution_count": 13,
   "id": "71a4e463",
   "metadata": {},
   "outputs": [
    {
     "data": {
      "text/plain": [
       "False"
      ]
     },
     "execution_count": 13,
     "metadata": {},
     "output_type": "execute_result"
    }
   ],
   "source": [
    "True and False"
   ]
  },
  {
   "cell_type": "code",
   "execution_count": 14,
   "id": "243c5f54",
   "metadata": {},
   "outputs": [
    {
     "data": {
      "text/plain": [
       "True"
      ]
     },
     "execution_count": 14,
     "metadata": {},
     "output_type": "execute_result"
    }
   ],
   "source": [
    "True and True"
   ]
  },
  {
   "cell_type": "code",
   "execution_count": 16,
   "id": "ffaf5c32",
   "metadata": {},
   "outputs": [
    {
     "data": {
      "text/plain": [
       "True"
      ]
     },
     "execution_count": 16,
     "metadata": {},
     "output_type": "execute_result"
    }
   ],
   "source": [
    "True or False"
   ]
  },
  {
   "cell_type": "code",
   "execution_count": 17,
   "id": "7501b4fb",
   "metadata": {},
   "outputs": [
    {
     "data": {
      "text/plain": [
       "False"
      ]
     },
     "execution_count": 17,
     "metadata": {},
     "output_type": "execute_result"
    }
   ],
   "source": [
    "True and False"
   ]
  },
  {
   "cell_type": "markdown",
   "id": "1a7d977c",
   "metadata": {},
   "source": [
    "### ComplexLogic"
   ]
  },
  {
   "cell_type": "code",
   "execution_count": 23,
   "id": "91938309",
   "metadata": {},
   "outputs": [
    {
     "data": {
      "text/plain": [
       "False"
      ]
     },
     "execution_count": 23,
     "metadata": {},
     "output_type": "execute_result"
    }
   ],
   "source": [
    "str_example = 'Hello World'\n",
    "my_str = 'Dee'\n",
    "my_str.isalpha() and str_example.isalnum()"
   ]
  },
  {
   "cell_type": "markdown",
   "id": "3bc3d3f8",
   "metadata": {},
   "source": [
    "# Lists\n",
    "\n",
    "- Data Structure in Python\n",
    "- List is mutable, changeable ordered sequence of elements\n",
    "- Each elementinside list is called an item\n",
    "- Defined by having values in square brackets [ ]\n",
    "- use comma separated values\n",
    "- can have different data types(string, numeric, alphanumeric)\n"
   ]
  },
  {
   "cell_type": "code",
   "execution_count": null,
   "id": "c7d9a1c8",
   "metadata": {},
   "outputs": [],
   "source": []
  },
  {
   "cell_type": "code",
   "execution_count": null,
   "id": "8a472690",
   "metadata": {},
   "outputs": [],
   "source": []
  },
  {
   "cell_type": "code",
   "execution_count": 25,
   "id": "9e74ef98",
   "metadata": {},
   "outputs": [
    {
     "data": {
      "text/plain": [
       "list"
      ]
     },
     "execution_count": 25,
     "metadata": {},
     "output_type": "execute_result"
    }
   ],
   "source": [
    "type([])"
   ]
  },
  {
   "cell_type": "code",
   "execution_count": 27,
   "id": "00fa5997",
   "metadata": {},
   "outputs": [
    {
     "data": {
      "text/plain": [
       "list"
      ]
     },
     "execution_count": 27,
     "metadata": {},
     "output_type": "execute_result"
    }
   ],
   "source": [
    "List_1 = []\n",
    "type(List_1)"
   ]
  },
  {
   "cell_type": "code",
   "execution_count": 29,
   "id": "a8b8d715",
   "metadata": {},
   "outputs": [
    {
     "data": {
      "text/plain": [
       "list"
      ]
     },
     "execution_count": 29,
     "metadata": {},
     "output_type": "execute_result"
    }
   ],
   "source": [
    "List_1=list()\n",
    "type(List_1)"
   ]
  },
  {
   "cell_type": "code",
   "execution_count": 32,
   "id": "082d277b",
   "metadata": {},
   "outputs": [
    {
     "data": {
      "text/plain": [
       "list"
      ]
     },
     "execution_count": 32,
     "metadata": {},
     "output_type": "execute_result"
    }
   ],
   "source": [
    "List_1 =['biology',' math',100,200, 340]\n",
    "type(List_1)"
   ]
  },
  {
   "cell_type": "markdown",
   "id": "1fdeddde",
   "metadata": {},
   "source": [
    "### Length Function"
   ]
  },
  {
   "cell_type": "code",
   "execution_count": 31,
   "id": "2b7f093a",
   "metadata": {},
   "outputs": [
    {
     "data": {
      "text/plain": [
       "5"
      ]
     },
     "execution_count": 31,
     "metadata": {},
     "output_type": "execute_result"
    }
   ],
   "source": [
    "len(List_1) # Length function to check number of items in list"
   ]
  },
  {
   "cell_type": "markdown",
   "id": "269c2952",
   "metadata": {},
   "source": [
    "### Append Function\n",
    "- .append is used to add elements in the list\n",
    "-  list.append() takes exactly one argument\n",
    "- Indexing starts with 0"
   ]
  },
  {
   "cell_type": "code",
   "execution_count": 48,
   "id": "abe600a2",
   "metadata": {},
   "outputs": [
    {
     "data": {
      "text/plain": [
       "['biology',\n",
       " ' math',\n",
       " 100,\n",
       " 200,\n",
       " 340,\n",
       " 'arts',\n",
       " 'arts',\n",
       " 'arts',\n",
       " 'arts',\n",
       " 'arts',\n",
       " ['John', 'Jack'],\n",
       " ['John', 'Jack']]"
      ]
     },
     "execution_count": 48,
     "metadata": {},
     "output_type": "execute_result"
    }
   ],
   "source": [
    "List_1.append(['John', 'Jack']) # appending nested list\n",
    "List_1"
   ]
  },
  {
   "cell_type": "code",
   "execution_count": 50,
   "id": "4625e9eb",
   "metadata": {},
   "outputs": [
    {
     "data": {
      "text/plain": [
       "['biology',\n",
       " ' math',\n",
       " 100,\n",
       " 200,\n",
       " 340,\n",
       " 'arts',\n",
       " 'arts',\n",
       " 'arts',\n",
       " 'arts',\n",
       " 'arts',\n",
       " ['John', 'Jack'],\n",
       " ['John', 'Jack'],\n",
       " 'arts']"
      ]
     },
     "execution_count": 50,
     "metadata": {},
     "output_type": "execute_result"
    }
   ],
   "source": [
    "List_1.append ('arts')\n",
    "List_1"
   ]
  },
  {
   "cell_type": "code",
   "execution_count": 51,
   "id": "4c5d534e",
   "metadata": {},
   "outputs": [
    {
     "data": {
      "text/plain": [
       "100"
      ]
     },
     "execution_count": 51,
     "metadata": {},
     "output_type": "execute_result"
    }
   ],
   "source": [
    "List_1[2]"
   ]
  },
  {
   "cell_type": "markdown",
   "id": "2d89aa8c",
   "metadata": {},
   "source": [
    "### Indexing Techniques"
   ]
  },
  {
   "cell_type": "code",
   "execution_count": 49,
   "id": "ab4eb9f1",
   "metadata": {},
   "outputs": [
    {
     "name": "stdout",
     "output_type": "stream",
     "text": [
      "arts\n",
      "[100, 200, 340, 'arts', 'arts', 'arts', 'arts', 'arts', ['John', 'Jack'], ['John', 'Jack']]\n",
      "[200, 340, 'arts', 'arts', 'arts', 'arts', 'arts', ['John', 'Jack'], ['John', 'Jack']]\n",
      "[100, 200]\n"
     ]
    }
   ],
   "source": [
    "\n",
    "print(List_1[6])\n",
    "print(List_1[2:])\n",
    "print(List_1[3:])\n",
    "print(List_1[2:4])"
   ]
  },
  {
   "cell_type": "markdown",
   "id": "2cfe5e46",
   "metadata": {},
   "source": [
    "## Insert Function"
   ]
  },
  {
   "cell_type": "code",
   "execution_count": 54,
   "id": "4c15cceb",
   "metadata": {},
   "outputs": [
    {
     "data": {
      "text/plain": [
       "['biology',\n",
       " ' math',\n",
       " 'Good Vibes',\n",
       " 'Good Vibes',\n",
       " 'Good Vibes',\n",
       " 100,\n",
       " 200,\n",
       " 340,\n",
       " 'arts',\n",
       " 'arts',\n",
       " 'arts',\n",
       " 'arts',\n",
       " 'arts',\n",
       " ['John', 'Jack'],\n",
       " ['John', 'Jack'],\n",
       " 'arts']"
      ]
     },
     "execution_count": 54,
     "metadata": {},
     "output_type": "execute_result"
    }
   ],
   "source": [
    "List_1.insert(2,'Good Vibes')\n",
    "List_1"
   ]
  },
  {
   "cell_type": "markdown",
   "id": "6cde44ae",
   "metadata": {},
   "source": [
    "## Extend Method\n",
    "\n",
    "- Added as a separate element unlike nested list like append"
   ]
  },
  {
   "cell_type": "code",
   "execution_count": 55,
   "id": "0f815f27",
   "metadata": {},
   "outputs": [
    {
     "data": {
      "text/plain": [
       "[1, 2, 3, 4, 5, 6, 8, 9, 10]"
      ]
     },
     "execution_count": 55,
     "metadata": {},
     "output_type": "execute_result"
    }
   ],
   "source": [
    "List_2 = [1,2,3,4,5,6]\n",
    "List_2.extend([8,9,10])\n",
    "List_2"
   ]
  },
  {
   "cell_type": "markdown",
   "id": "248a84e1",
   "metadata": {},
   "source": [
    "## Various Operations performed in List\n",
    "- sum()\n",
    "- pop()"
   ]
  },
  {
   "cell_type": "code",
   "execution_count": null,
   "id": "acd23e03",
   "metadata": {},
   "outputs": [],
   "source": []
  },
  {
   "cell_type": "code",
   "execution_count": 56,
   "id": "b46671b7",
   "metadata": {},
   "outputs": [
    {
     "data": {
      "text/plain": [
       "48"
      ]
     },
     "execution_count": 56,
     "metadata": {},
     "output_type": "execute_result"
    }
   ],
   "source": [
    "sum(List_2) # SUM adds elements in list"
   ]
  },
  {
   "cell_type": "code",
   "execution_count": 57,
   "id": "9d9daa39",
   "metadata": {},
   "outputs": [
    {
     "data": {
      "text/plain": [
       "10"
      ]
     },
     "execution_count": 57,
     "metadata": {},
     "output_type": "execute_result"
    }
   ],
   "source": [
    "List_2.pop()"
   ]
  },
  {
   "cell_type": "code",
   "execution_count": null,
   "id": "c090e283",
   "metadata": {},
   "outputs": [],
   "source": []
  },
  {
   "cell_type": "code",
   "execution_count": null,
   "id": "180c83c6",
   "metadata": {},
   "outputs": [],
   "source": []
  },
  {
   "cell_type": "code",
   "execution_count": null,
   "id": "ff7fe264",
   "metadata": {},
   "outputs": [],
   "source": []
  },
  {
   "cell_type": "code",
   "execution_count": null,
   "id": "5b6a768b",
   "metadata": {},
   "outputs": [],
   "source": []
  },
  {
   "cell_type": "code",
   "execution_count": null,
   "id": "6198b852",
   "metadata": {},
   "outputs": [],
   "source": []
  },
  {
   "cell_type": "code",
   "execution_count": null,
   "id": "785764bc",
   "metadata": {},
   "outputs": [],
   "source": []
  },
  {
   "cell_type": "code",
   "execution_count": null,
   "id": "b88ceaa9",
   "metadata": {},
   "outputs": [],
   "source": []
  },
  {
   "cell_type": "code",
   "execution_count": null,
   "id": "7106668b",
   "metadata": {},
   "outputs": [],
   "source": []
  },
  {
   "cell_type": "code",
   "execution_count": null,
   "id": "fea97251",
   "metadata": {},
   "outputs": [],
   "source": []
  },
  {
   "cell_type": "code",
   "execution_count": null,
   "id": "832324bd",
   "metadata": {},
   "outputs": [],
   "source": []
  },
  {
   "cell_type": "code",
   "execution_count": null,
   "id": "adf94a13",
   "metadata": {},
   "outputs": [],
   "source": []
  },
  {
   "cell_type": "code",
   "execution_count": null,
   "id": "f9832cfa",
   "metadata": {},
   "outputs": [],
   "source": []
  },
  {
   "cell_type": "code",
   "execution_count": null,
   "id": "428afa5d",
   "metadata": {},
   "outputs": [],
   "source": []
  },
  {
   "cell_type": "code",
   "execution_count": null,
   "id": "f3fedd3e",
   "metadata": {},
   "outputs": [],
   "source": []
  },
  {
   "cell_type": "code",
   "execution_count": null,
   "id": "876328bd",
   "metadata": {},
   "outputs": [],
   "source": []
  },
  {
   "cell_type": "code",
   "execution_count": null,
   "id": "ceb9ce49",
   "metadata": {},
   "outputs": [],
   "source": []
  },
  {
   "cell_type": "code",
   "execution_count": null,
   "id": "15142c2c",
   "metadata": {},
   "outputs": [],
   "source": []
  },
  {
   "cell_type": "code",
   "execution_count": null,
   "id": "4f8382b3",
   "metadata": {},
   "outputs": [],
   "source": []
  },
  {
   "cell_type": "code",
   "execution_count": null,
   "id": "694d8690",
   "metadata": {},
   "outputs": [],
   "source": []
  },
  {
   "cell_type": "code",
   "execution_count": null,
   "id": "bb649f2f",
   "metadata": {},
   "outputs": [],
   "source": []
  },
  {
   "cell_type": "code",
   "execution_count": null,
   "id": "d0af5831",
   "metadata": {},
   "outputs": [],
   "source": []
  }
 ],
 "metadata": {
  "kernelspec": {
   "display_name": "Python 3 (ipykernel)",
   "language": "python",
   "name": "python3"
  },
  "language_info": {
   "codemirror_mode": {
    "name": "ipython",
    "version": 3
   },
   "file_extension": ".py",
   "mimetype": "text/x-python",
   "name": "python",
   "nbconvert_exporter": "python",
   "pygments_lexer": "ipython3",
   "version": "3.9.12"
  }
 },
 "nbformat": 4,
 "nbformat_minor": 5
}
